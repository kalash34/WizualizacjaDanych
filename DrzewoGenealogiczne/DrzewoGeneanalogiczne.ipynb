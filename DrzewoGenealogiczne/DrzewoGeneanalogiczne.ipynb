{
  "nbformat": 4,
  "nbformat_minor": 0,
  "metadata": {
    "colab": {
      "name": "DrzewoGeneanalogiczne.ipynb",
      "provenance": [],
      "collapsed_sections": [],
      "toc_visible": true
    },
    "kernelspec": {
      "name": "python3",
      "display_name": "Python 3"
    },
    "language_info": {
      "name": "python"
    }
  },
  "cells": [
    {
      "cell_type": "code",
      "source": [
        "import pandas as pd\n",
        "import sys\n",
        "import io\n",
        "import graphviz\n",
        "from graphviz import Source\n",
        "from networkx.drawing import nx_agraph\n",
        "import pydot\n",
        "from IPython.display import display\n",
        "from IPython.display import Image\n",
        "\n",
        "# instrukcja biblioteki graphviz\n",
        "# https://graphviz.readthedocs.io/en/stable/manual.html\n",
        "\n",
        "# wczytamy plik csv z linku raw z githuba\n",
        "url = 'https://raw.githubusercontent.com/kalash34/WizualizacjaDanych/main/DrzewoGenealogiczne/Khan.csv'\n",
        "\n",
        "df1 = pd.read_csv(url,on_bad_lines='skip')\n",
        "df1.head()\n",
        "df1['father_id'].dropna()\n",
        "df1['mother_id'].dropna()\n",
        "\n",
        "# licznik dla id dla pustych wezlow\n",
        "counter = 1000\n",
        "\n",
        "# Mapuje ludzi do ich posrednich wezlow relacji\n",
        "relation = dict()\n",
        "\n",
        "for index, rows in df1.iterrows():\n",
        "  relation[rows['name']]=[]\n",
        "\n",
        "\n",
        "# Plik CSV czytany jest dla nastepujacego wzoru kolumn:\n",
        "# \n",
        "# \n",
        "# 1.  khan_id 2. name 3.  born 4.  died 5. father_id 6. mother_id\n",
        "\n",
        "\n",
        "#zeby przekierowac wyjscie z printa do zmiennej tworzymy sobie obiekty sys\n",
        "old_stdout = sys.stdout\n",
        "new_stdout = io.StringIO()\n",
        "sys.stdout = new_stdout\n",
        "\n",
        "\n",
        "u = graphviz.Digraph('Drzewo_genealogiczne', filename='Family.gv',\n",
        "                     node_attr={'color': 'lightblue2', 'style': 'filled'})\n",
        "\n",
        "# https://graphviz.readthedocs.io/en/stable/examples.html\n",
        "\n",
        "\n",
        "relations=set()\n",
        "\n",
        "print(\"digraph G {\")\n",
        "\n",
        "# iterrows() - zwraca obiekt iteratora dla Data Frame\n",
        "for index, row in df1.iterrows():\n",
        "        id = row['khan_id']\n",
        "        #relation[id] = counter\n",
        "        #counter += 1\n",
        "        name = str(row[1]) \n",
        "        parents = None\n",
        "        partner = None\n",
        "        u.node(name)\n",
        "        if row['father_id'].isnumeric():\n",
        "            father = int(row['father_id'])\n",
        "            parents = relation[father]\n",
        "            relation[row['name']].append(row['father_id'])\n",
        "            relations.add((df1.loc[father, 'name'], name))\n",
        "        if row['mother_id'].isnumeric():\n",
        "            mother = int(row['mother_id'])\n",
        "            parents = relation[mother]\n",
        "            relation[row['name']].append(row['mother_id'])\n",
        "            relations.add((df1.loc[mother, 'name'], name))\n",
        "            \n",
        "        '''\n",
        "        # Imie:\n",
        "        print(\"{}[label=\\\"{}\\\"];\".format(id,name))\n",
        "        # Relacje:\n",
        "        if parents is not None:\n",
        "            print(\"{} -> {};\".format(id, parents))\n",
        "        if partner is not None:\n",
        "            print(\"{} -> {} [dir=none];\".format(id, relation[partner]))\n",
        "        '''\n",
        "print(\"}\")\n",
        "\n",
        "\n",
        "edges=[]\n",
        "\n",
        "for key, value in relation.items():\n",
        "  for e in value:\n",
        "    d2=df1[df1['khan_id']==int(e)]\n",
        "    val = d2['name'].values[0]      #zamieniamy fragment df'a na tablice numpy, zeby otrzymac\n",
        "    edges.append([key, val])\n",
        "    \n",
        "  \n",
        "\n",
        "for edge in edges:\n",
        "  u.edge(edge[0], edge[1])\n",
        "\n",
        "\n",
        "# dla dokananego wpisu w konsoli pobieramy wartosc\n",
        "output = new_stdout.getvalue()\n",
        "\n",
        "# przywracamy standardowe wyjscie\n",
        "sys.stdout = old_stdout\n",
        "\n",
        "\n",
        "# string z grafem w jezyku dot\n",
        "family_tree = output\n",
        "#https://nbviewer.org/github/xflr6/graphviz/blob/master/examples/graphviz-notebook.ipynb\n",
        "    \n",
        "display(u)\n",
        "\n"
      ],
      "metadata": {
        "id": "hQlx14QvzpoD",
        "colab": {
          "base_uri": "https://localhost:8080/",
          "height": 598
        },
        "outputId": "59a613a5-cbd3-4a28-e30b-5399f90259b0"
      },
      "execution_count": 13,
      "outputs": [
        {
          "output_type": "stream",
          "name": "stdout",
          "text": [
            "}\n"
          ]
        },
        {
          "output_type": "display_data",
          "data": {
            "text/plain": [
              "<graphviz.dot.Digraph at 0x7f904dc31150>"
            ],
            "image/svg+xml": "<?xml version=\"1.0\" encoding=\"UTF-8\" standalone=\"no\"?>\n<!DOCTYPE svg PUBLIC \"-//W3C//DTD SVG 1.1//EN\"\n \"http://www.w3.org/Graphics/SVG/1.1/DTD/svg11.dtd\">\n<!-- Generated by graphviz version 2.40.1 (20161225.0304)\n -->\n<!-- Title: Drzewo_genealogiczne Pages: 1 -->\n<svg width=\"854pt\" height=\"404pt\"\n viewBox=\"0.00 0.00 854.49 404.00\" xmlns=\"http://www.w3.org/2000/svg\" xmlns:xlink=\"http://www.w3.org/1999/xlink\">\n<g id=\"graph0\" class=\"graph\" transform=\"scale(1 1) rotate(0) translate(4 400)\">\n<title>Drzewo_genealogiczne</title>\n<polygon fill=\"#ffffff\" stroke=\"transparent\" points=\"-4,4 -4,-400 850.4925,-400 850.4925,4 -4,4\"/>\n<!-- Yesugei -->\n<g id=\"node1\" class=\"node\">\n<title>Yesugei</title>\n<ellipse fill=\"#b2dfee\" stroke=\"#b2dfee\" cx=\"290.2463\" cy=\"-18\" rx=\"40.0939\" ry=\"18\"/>\n<text text-anchor=\"middle\" x=\"290.2463\" y=\"-14.3\" font-family=\"Times,serif\" font-size=\"14.00\" fill=\"#000000\">Yesugei</text>\n</g>\n<!-- Hoelun -->\n<g id=\"node2\" class=\"node\">\n<title>Hoelun</title>\n<ellipse fill=\"#b2dfee\" stroke=\"#b2dfee\" cx=\"191.2463\" cy=\"-18\" rx=\"38.1938\" ry=\"18\"/>\n<text text-anchor=\"middle\" x=\"191.2463\" y=\"-14.3\" font-family=\"Times,serif\" font-size=\"14.00\" fill=\"#000000\">Hoelun</text>\n</g>\n<!-- Temüjin -->\n<g id=\"node3\" class=\"node\">\n<title>Temüjin</title>\n<ellipse fill=\"#b2dfee\" stroke=\"#b2dfee\" cx=\"144.2463\" cy=\"-90\" rx=\"42.4939\" ry=\"18\"/>\n<text text-anchor=\"middle\" x=\"144.2463\" y=\"-86.3\" font-family=\"Times,serif\" font-size=\"14.00\" fill=\"#000000\">Temüjin</text>\n</g>\n<!-- Temüjin&#45;&gt;Yesugei -->\n<g id=\"edge1\" class=\"edge\">\n<title>Temüjin&#45;&gt;Yesugei</title>\n<path fill=\"none\" stroke=\"#000000\" d=\"M172.0514,-76.2879C195.2341,-64.8553 228.4425,-48.4786 253.7596,-35.9934\"/>\n<polygon fill=\"#000000\" stroke=\"#000000\" points=\"255.6182,-38.9794 263.0389,-31.4173 252.5221,-32.7013 255.6182,-38.9794\"/>\n</g>\n<!-- Temüjin&#45;&gt;Hoelun -->\n<g id=\"edge2\" class=\"edge\">\n<title>Temüjin&#45;&gt;Hoelun</title>\n<path fill=\"none\" stroke=\"#000000\" d=\"M155.6236,-72.5708C161.2813,-63.9038 168.2298,-53.2592 174.4832,-43.6796\"/>\n<polygon fill=\"#000000\" stroke=\"#000000\" points=\"177.4382,-45.5557 179.9736,-35.2687 171.5765,-41.7293 177.4382,-45.5557\"/>\n</g>\n<!-- Börte -->\n<g id=\"node4\" class=\"node\">\n<title>Börte</title>\n<ellipse fill=\"#b2dfee\" stroke=\"#b2dfee\" cx=\"417.2463\" cy=\"-90\" rx=\"31.3957\" ry=\"18\"/>\n<text text-anchor=\"middle\" x=\"417.2463\" y=\"-86.3\" font-family=\"Times,serif\" font-size=\"14.00\" fill=\"#000000\">Börte</text>\n</g>\n<!-- Jochi -->\n<g id=\"node5\" class=\"node\">\n<title>Jochi</title>\n<ellipse fill=\"#b2dfee\" stroke=\"#b2dfee\" cx=\"409.2463\" cy=\"-162\" rx=\"30.5947\" ry=\"18\"/>\n<text text-anchor=\"middle\" x=\"409.2463\" y=\"-158.3\" font-family=\"Times,serif\" font-size=\"14.00\" fill=\"#000000\">Jochi</text>\n</g>\n<!-- Jochi&#45;&gt;Temüjin -->\n<g id=\"edge3\" class=\"edge\">\n<title>Jochi&#45;&gt;Temüjin</title>\n<path fill=\"none\" stroke=\"#000000\" d=\"M385.4692,-150.2771C380.2108,-147.9745 374.6069,-145.7375 369.2463,-144 294.1226,-119.6509 271.3214,-129.19 195.2463,-108 192.1257,-107.1308 188.92,-106.169 185.7087,-105.1552\"/>\n<polygon fill=\"#000000\" stroke=\"#000000\" points=\"186.731,-101.807 176.1379,-101.9992 184.5388,-108.4549 186.731,-101.807\"/>\n</g>\n<!-- Jochi&#45;&gt;Börte -->\n<g id=\"edge4\" class=\"edge\">\n<title>Jochi&#45;&gt;Börte</title>\n<path fill=\"none\" stroke=\"#000000\" d=\"M411.265,-143.8314C412.1206,-136.131 413.138,-126.9743 414.0888,-118.4166\"/>\n<polygon fill=\"#000000\" stroke=\"#000000\" points=\"417.5745,-118.7386 415.2003,-108.4133 410.6173,-117.9656 417.5745,-118.7386\"/>\n</g>\n<!-- Batu -->\n<g id=\"node6\" class=\"node\">\n<title>Batu</title>\n<ellipse fill=\"#b2dfee\" stroke=\"#b2dfee\" cx=\"329.2463\" cy=\"-234\" rx=\"28.6953\" ry=\"18\"/>\n<text text-anchor=\"middle\" x=\"329.2463\" y=\"-230.3\" font-family=\"Times,serif\" font-size=\"14.00\" fill=\"#000000\">Batu</text>\n</g>\n<!-- Batu&#45;&gt;Jochi -->\n<g id=\"edge5\" class=\"edge\">\n<title>Batu&#45;&gt;Jochi</title>\n<path fill=\"none\" stroke=\"#000000\" d=\"M345.8223,-219.0816C357.1166,-208.9167 372.2579,-195.2895 384.9139,-183.8991\"/>\n<polygon fill=\"#000000\" stroke=\"#000000\" points=\"387.3246,-186.4383 392.4162,-177.147 382.6418,-181.2352 387.3246,-186.4383\"/>\n</g>\n<!-- Sartaq -->\n<g id=\"node7\" class=\"node\">\n<title>Sartaq</title>\n<ellipse fill=\"#b2dfee\" stroke=\"#b2dfee\" cx=\"329.2463\" cy=\"-306\" rx=\"34.394\" ry=\"18\"/>\n<text text-anchor=\"middle\" x=\"329.2463\" y=\"-302.3\" font-family=\"Times,serif\" font-size=\"14.00\" fill=\"#000000\">Sartaq</text>\n</g>\n<!-- Sartaq&#45;&gt;Batu -->\n<g id=\"edge6\" class=\"edge\">\n<title>Sartaq&#45;&gt;Batu</title>\n<path fill=\"none\" stroke=\"#000000\" d=\"M329.2463,-287.8314C329.2463,-280.131 329.2463,-270.9743 329.2463,-262.4166\"/>\n<polygon fill=\"#000000\" stroke=\"#000000\" points=\"332.7464,-262.4132 329.2463,-252.4133 325.7464,-262.4133 332.7464,-262.4132\"/>\n</g>\n<!-- Berke -->\n<g id=\"node8\" class=\"node\">\n<title>Berke</title>\n<ellipse fill=\"#b2dfee\" stroke=\"#b2dfee\" cx=\"408.2463\" cy=\"-234\" rx=\"32.4942\" ry=\"18\"/>\n<text text-anchor=\"middle\" x=\"408.2463\" y=\"-230.3\" font-family=\"Times,serif\" font-size=\"14.00\" fill=\"#000000\">Berke</text>\n</g>\n<!-- Berke&#45;&gt;Jochi -->\n<g id=\"edge7\" class=\"edge\">\n<title>Berke&#45;&gt;Jochi</title>\n<path fill=\"none\" stroke=\"#000000\" d=\"M408.4986,-215.8314C408.6055,-208.131 408.7327,-198.9743 408.8516,-190.4166\"/>\n<polygon fill=\"#000000\" stroke=\"#000000\" points=\"412.3512,-190.4609 408.9905,-180.4133 405.3519,-190.3637 412.3512,-190.4609\"/>\n</g>\n<!-- Chagatai -->\n<g id=\"node9\" class=\"node\">\n<title>Chagatai</title>\n<ellipse fill=\"#b2dfee\" stroke=\"#b2dfee\" cx=\"53.2463\" cy=\"-162\" rx=\"43.5923\" ry=\"18\"/>\n<text text-anchor=\"middle\" x=\"53.2463\" y=\"-158.3\" font-family=\"Times,serif\" font-size=\"14.00\" fill=\"#000000\">Chagatai</text>\n</g>\n<!-- Chagatai&#45;&gt;Temüjin -->\n<g id=\"edge8\" class=\"edge\">\n<title>Chagatai&#45;&gt;Temüjin</title>\n<path fill=\"none\" stroke=\"#000000\" d=\"M73.4421,-146.0209C85.9304,-136.14 102.1478,-123.3086 115.9103,-112.4197\"/>\n<polygon fill=\"#000000\" stroke=\"#000000\" points=\"118.4363,-114.8841 124.1069,-105.9345 114.0929,-109.3945 118.4363,-114.8841\"/>\n</g>\n<!-- Chagatai&#45;&gt;Börte -->\n<g id=\"edge9\" class=\"edge\">\n<title>Chagatai&#45;&gt;Börte</title>\n<path fill=\"none\" stroke=\"#000000\" d=\"M85.4028,-149.7408C91.902,-147.5841 98.7387,-145.5403 105.2463,-144 223.9106,-115.9129 259.959,-141.3739 377.2463,-108 379.5328,-107.3494 381.8566,-106.5897 384.1745,-105.7573\"/>\n<polygon fill=\"#000000\" stroke=\"#000000\" points=\"385.5645,-108.9712 393.5593,-102.0189 382.974,-102.4681 385.5645,-108.9712\"/>\n</g>\n<!-- Baidar -->\n<g id=\"node10\" class=\"node\">\n<title>Baidar</title>\n<ellipse fill=\"#b2dfee\" stroke=\"#b2dfee\" cx=\"53.2463\" cy=\"-234\" rx=\"35.194\" ry=\"18\"/>\n<text text-anchor=\"middle\" x=\"53.2463\" y=\"-230.3\" font-family=\"Times,serif\" font-size=\"14.00\" fill=\"#000000\">Baidar</text>\n</g>\n<!-- Baidar&#45;&gt;Chagatai -->\n<g id=\"edge10\" class=\"edge\">\n<title>Baidar&#45;&gt;Chagatai</title>\n<path fill=\"none\" stroke=\"#000000\" d=\"M53.2463,-215.8314C53.2463,-208.131 53.2463,-198.9743 53.2463,-190.4166\"/>\n<polygon fill=\"#000000\" stroke=\"#000000\" points=\"56.7464,-190.4132 53.2463,-180.4133 49.7464,-190.4133 56.7464,-190.4132\"/>\n</g>\n<!-- Ögedei -->\n<g id=\"node11\" class=\"node\">\n<title>Ögedei</title>\n<ellipse fill=\"#b2dfee\" stroke=\"#b2dfee\" cx=\"152.2463\" cy=\"-162\" rx=\"37.8943\" ry=\"18\"/>\n<text text-anchor=\"middle\" x=\"152.2463\" y=\"-158.3\" font-family=\"Times,serif\" font-size=\"14.00\" fill=\"#000000\">Ögedei</text>\n</g>\n<!-- Ögedei&#45;&gt;Temüjin -->\n<g id=\"edge11\" class=\"edge\">\n<title>Ögedei&#45;&gt;Temüjin</title>\n<path fill=\"none\" stroke=\"#000000\" d=\"M150.2275,-143.8314C149.3719,-136.131 148.3545,-126.9743 147.4037,-118.4166\"/>\n<polygon fill=\"#000000\" stroke=\"#000000\" points=\"150.8752,-117.9656 146.2922,-108.4133 143.918,-118.7386 150.8752,-117.9656\"/>\n</g>\n<!-- Ögedei&#45;&gt;Börte -->\n<g id=\"edge12\" class=\"edge\">\n<title>Ögedei&#45;&gt;Börte</title>\n<path fill=\"none\" stroke=\"#000000\" d=\"M180.8211,-150.1899C186.8439,-147.9461 193.2048,-145.7546 199.2463,-144 276.7564,-121.489 300.4104,-132.7147 377.2463,-108 379.5094,-107.272 381.8155,-106.4539 384.1203,-105.5785\"/>\n<polygon fill=\"#000000\" stroke=\"#000000\" points=\"385.5516,-108.7745 393.4751,-101.741 382.8949,-102.2982 385.5516,-108.7745\"/>\n</g>\n<!-- Töregene Khatun -->\n<g id=\"node12\" class=\"node\">\n<title>Töregene Khatun</title>\n<ellipse fill=\"#b2dfee\" stroke=\"#b2dfee\" cx=\"284.2463\" cy=\"-162\" rx=\"76.0865\" ry=\"18\"/>\n<text text-anchor=\"middle\" x=\"284.2463\" y=\"-158.3\" font-family=\"Times,serif\" font-size=\"14.00\" fill=\"#000000\">Töregene Khatun</text>\n</g>\n<!-- Güyük -->\n<g id=\"node13\" class=\"node\">\n<title>Güyük</title>\n<ellipse fill=\"#b2dfee\" stroke=\"#b2dfee\" cx=\"245.2463\" cy=\"-234\" rx=\"37.0935\" ry=\"18\"/>\n<text text-anchor=\"middle\" x=\"245.2463\" y=\"-230.3\" font-family=\"Times,serif\" font-size=\"14.00\" fill=\"#000000\">Güyük</text>\n</g>\n<!-- Güyük&#45;&gt;Ögedei -->\n<g id=\"edge13\" class=\"edge\">\n<title>Güyük&#45;&gt;Ögedei</title>\n<path fill=\"none\" stroke=\"#000000\" d=\"M225.5233,-218.7307C212.4194,-208.5856 195.0117,-195.1087 180.4512,-183.8361\"/>\n<polygon fill=\"#000000\" stroke=\"#000000\" points=\"182.3112,-180.8498 172.2613,-177.4956 178.026,-186.3849 182.3112,-180.8498\"/>\n</g>\n<!-- Güyük&#45;&gt;Töregene Khatun -->\n<g id=\"edge14\" class=\"edge\">\n<title>Güyük&#45;&gt;Töregene Khatun</title>\n<path fill=\"none\" stroke=\"#000000\" d=\"M254.6871,-216.5708C259.1844,-208.2679 264.6649,-198.1502 269.6795,-188.8925\"/>\n<polygon fill=\"#000000\" stroke=\"#000000\" points=\"272.7997,-190.4805 274.4851,-180.0206 266.6447,-187.1465 272.7997,-190.4805\"/>\n</g>\n<!-- Kashin -->\n<g id=\"node14\" class=\"node\">\n<title>Kashin</title>\n<ellipse fill=\"#b2dfee\" stroke=\"#b2dfee\" cx=\"152.2463\" cy=\"-234\" rx=\"37.0935\" ry=\"18\"/>\n<text text-anchor=\"middle\" x=\"152.2463\" y=\"-230.3\" font-family=\"Times,serif\" font-size=\"14.00\" fill=\"#000000\">Kashin</text>\n</g>\n<!-- Kashin&#45;&gt;Ögedei -->\n<g id=\"edge15\" class=\"edge\">\n<title>Kashin&#45;&gt;Ögedei</title>\n<path fill=\"none\" stroke=\"#000000\" d=\"M152.2463,-215.8314C152.2463,-208.131 152.2463,-198.9743 152.2463,-190.4166\"/>\n<polygon fill=\"#000000\" stroke=\"#000000\" points=\"155.7464,-190.4132 152.2463,-180.4133 148.7464,-190.4133 155.7464,-190.4132\"/>\n</g>\n<!-- Kashin&#45;&gt;Töregene Khatun -->\n<g id=\"edge16\" class=\"edge\">\n<title>Kashin&#45;&gt;Töregene Khatun</title>\n<path fill=\"none\" stroke=\"#000000\" d=\"M177.0744,-220.4574C196.2409,-210.0029 223.1201,-195.3415 245.1645,-183.3173\"/>\n<polygon fill=\"#000000\" stroke=\"#000000\" points=\"246.865,-186.3766 253.968,-178.5154 243.513,-180.2314 246.865,-186.3766\"/>\n</g>\n<!-- Kaidu -->\n<g id=\"node15\" class=\"node\">\n<title>Kaidu</title>\n<ellipse fill=\"#b2dfee\" stroke=\"#b2dfee\" cx=\"152.2463\" cy=\"-306\" rx=\"33.5952\" ry=\"18\"/>\n<text text-anchor=\"middle\" x=\"152.2463\" y=\"-302.3\" font-family=\"Times,serif\" font-size=\"14.00\" fill=\"#000000\">Kaidu</text>\n</g>\n<!-- Kaidu&#45;&gt;Kashin -->\n<g id=\"edge17\" class=\"edge\">\n<title>Kaidu&#45;&gt;Kashin</title>\n<path fill=\"none\" stroke=\"#000000\" d=\"M152.2463,-287.8314C152.2463,-280.131 152.2463,-270.9743 152.2463,-262.4166\"/>\n<polygon fill=\"#000000\" stroke=\"#000000\" points=\"155.7464,-262.4132 152.2463,-252.4133 148.7464,-262.4133 155.7464,-262.4132\"/>\n</g>\n<!-- Tolui -->\n<g id=\"node16\" class=\"node\">\n<title>Tolui</title>\n<ellipse fill=\"#b2dfee\" stroke=\"#b2dfee\" cx=\"681.2463\" cy=\"-162\" rx=\"30.5947\" ry=\"18\"/>\n<text text-anchor=\"middle\" x=\"681.2463\" y=\"-158.3\" font-family=\"Times,serif\" font-size=\"14.00\" fill=\"#000000\">Tolui</text>\n</g>\n<!-- Tolui&#45;&gt;Temüjin -->\n<g id=\"edge18\" class=\"edge\">\n<title>Tolui&#45;&gt;Temüjin</title>\n<path fill=\"none\" stroke=\"#000000\" d=\"M658.0426,-149.9551C652.6539,-147.6134 646.8514,-145.4414 641.2463,-144 448.6455,-94.4724 389.7477,-149.4398 195.2463,-108 191.8369,-107.2736 188.3439,-106.3794 184.8631,-105.3812\"/>\n<polygon fill=\"#000000\" stroke=\"#000000\" points=\"185.7546,-101.9929 175.1656,-102.3462 183.6637,-108.6733 185.7546,-101.9929\"/>\n</g>\n<!-- Tolui&#45;&gt;Börte -->\n<g id=\"edge19\" class=\"edge\">\n<title>Tolui&#45;&gt;Börte</title>\n<path fill=\"none\" stroke=\"#000000\" d=\"M657.4833,-150.2332C652.224,-147.9333 646.6162,-145.7085 641.2463,-144 561.8401,-118.7362 536.6524,-133.2638 457.2463,-108 454.9808,-107.2792 452.673,-106.4666 450.3669,-105.5951\"/>\n<polygon fill=\"#000000\" stroke=\"#000000\" points=\"451.5899,-102.3139 441.0092,-101.7668 448.9393,-108.7927 451.5899,-102.3139\"/>\n</g>\n<!-- Sorghaghtani Beki -->\n<g id=\"node17\" class=\"node\">\n<title>Sorghaghtani Beki</title>\n<ellipse fill=\"#b2dfee\" stroke=\"#b2dfee\" cx=\"551.2463\" cy=\"-162\" rx=\"81.4863\" ry=\"18\"/>\n<text text-anchor=\"middle\" x=\"551.2463\" y=\"-158.3\" font-family=\"Times,serif\" font-size=\"14.00\" fill=\"#000000\">Sorghaghtani Beki</text>\n</g>\n<!-- Möngke -->\n<g id=\"node18\" class=\"node\">\n<title>Möngke</title>\n<ellipse fill=\"#b2dfee\" stroke=\"#b2dfee\" cx=\"804.2463\" cy=\"-234\" rx=\"42.4939\" ry=\"18\"/>\n<text text-anchor=\"middle\" x=\"804.2463\" y=\"-230.3\" font-family=\"Times,serif\" font-size=\"14.00\" fill=\"#000000\">Möngke</text>\n</g>\n<!-- Möngke&#45;&gt;Tolui -->\n<g id=\"edge20\" class=\"edge\">\n<title>Möngke&#45;&gt;Tolui</title>\n<path fill=\"none\" stroke=\"#000000\" d=\"M779.3554,-219.4297C759.9102,-208.0472 732.7879,-192.1707 711.9876,-179.9949\"/>\n<polygon fill=\"#000000\" stroke=\"#000000\" points=\"713.6123,-176.8905 703.214,-174.8592 710.076,-182.9316 713.6123,-176.8905\"/>\n</g>\n<!-- Möngke&#45;&gt;Sorghaghtani Beki -->\n<g id=\"edge21\" class=\"edge\">\n<title>Möngke&#45;&gt;Sorghaghtani Beki</title>\n<path fill=\"none\" stroke=\"#000000\" d=\"M771.9978,-222.1906C765.8028,-220.0436 759.3454,-217.8884 753.2463,-216 707.6923,-201.8957 655.6987,-188.0472 615.8702,-177.9059\"/>\n<polygon fill=\"#000000\" stroke=\"#000000\" points=\"616.571,-174.4729 606.0177,-175.4096 614.8517,-181.2585 616.571,-174.4729\"/>\n</g>\n<!-- Kublai -->\n<g id=\"node19\" class=\"node\">\n<title>Kublai</title>\n<ellipse fill=\"#b2dfee\" stroke=\"#b2dfee\" cx=\"495.2463\" cy=\"-234\" rx=\"36.2938\" ry=\"18\"/>\n<text text-anchor=\"middle\" x=\"495.2463\" y=\"-230.3\" font-family=\"Times,serif\" font-size=\"14.00\" fill=\"#000000\">Kublai</text>\n</g>\n<!-- Kublai&#45;&gt;Tolui -->\n<g id=\"edge22\" class=\"edge\">\n<title>Kublai&#45;&gt;Tolui</title>\n<path fill=\"none\" stroke=\"#000000\" d=\"M523.9093,-222.644C529.6407,-220.4128 535.6265,-218.1106 541.2463,-216 585.4671,-199.3919 597.4532,-197.7054 641.2463,-180 643.4503,-179.1089 645.7116,-178.1675 647.9835,-177.2012\"/>\n<polygon fill=\"#000000\" stroke=\"#000000\" points=\"649.4954,-180.3603 657.2626,-173.1547 646.6972,-173.9439 649.4954,-180.3603\"/>\n</g>\n<!-- Kublai&#45;&gt;Sorghaghtani Beki -->\n<g id=\"edge23\" class=\"edge\">\n<title>Kublai&#45;&gt;Sorghaghtani Beki</title>\n<path fill=\"none\" stroke=\"#000000\" d=\"M508.5175,-216.937C515.2217,-208.3173 523.5008,-197.6727 530.9809,-188.0555\"/>\n<polygon fill=\"#000000\" stroke=\"#000000\" points=\"533.9121,-189.9876 537.2888,-179.9453 528.3866,-185.69 533.9121,-189.9876\"/>\n</g>\n<!-- Zhenjin -->\n<g id=\"node20\" class=\"node\">\n<title>Zhenjin</title>\n<ellipse fill=\"#b2dfee\" stroke=\"#b2dfee\" cx=\"483.2463\" cy=\"-306\" rx=\"40.0939\" ry=\"18\"/>\n<text text-anchor=\"middle\" x=\"483.2463\" y=\"-302.3\" font-family=\"Times,serif\" font-size=\"14.00\" fill=\"#000000\">Zhenjin</text>\n</g>\n<!-- Zhenjin&#45;&gt;Kublai -->\n<g id=\"edge24\" class=\"edge\">\n<title>Zhenjin&#45;&gt;Kublai</title>\n<path fill=\"none\" stroke=\"#000000\" d=\"M486.2744,-287.8314C487.5578,-280.131 489.0839,-270.9743 490.5101,-262.4166\"/>\n<polygon fill=\"#000000\" stroke=\"#000000\" points=\"493.9857,-262.8526 492.1774,-252.4133 487.0809,-261.7018 493.9857,-262.8526\"/>\n</g>\n<!-- Temür -->\n<g id=\"node21\" class=\"node\">\n<title>Temür</title>\n<ellipse fill=\"#b2dfee\" stroke=\"#b2dfee\" cx=\"483.2463\" cy=\"-378\" rx=\"35.194\" ry=\"18\"/>\n<text text-anchor=\"middle\" x=\"483.2463\" y=\"-374.3\" font-family=\"Times,serif\" font-size=\"14.00\" fill=\"#000000\">Temür</text>\n</g>\n<!-- Temür&#45;&gt;Zhenjin -->\n<g id=\"edge25\" class=\"edge\">\n<title>Temür&#45;&gt;Zhenjin</title>\n<path fill=\"none\" stroke=\"#000000\" d=\"M483.2463,-359.8314C483.2463,-352.131 483.2463,-342.9743 483.2463,-334.4166\"/>\n<polygon fill=\"#000000\" stroke=\"#000000\" points=\"486.7464,-334.4132 483.2463,-324.4133 479.7464,-334.4133 486.7464,-334.4132\"/>\n</g>\n<!-- Hulagu -->\n<g id=\"node22\" class=\"node\">\n<title>Hulagu</title>\n<ellipse fill=\"#b2dfee\" stroke=\"#b2dfee\" cx=\"588.2463\" cy=\"-234\" rx=\"38.1938\" ry=\"18\"/>\n<text text-anchor=\"middle\" x=\"588.2463\" y=\"-230.3\" font-family=\"Times,serif\" font-size=\"14.00\" fill=\"#000000\">Hulagu</text>\n</g>\n<!-- Hulagu&#45;&gt;Tolui -->\n<g id=\"edge26\" class=\"edge\">\n<title>Hulagu&#45;&gt;Tolui</title>\n<path fill=\"none\" stroke=\"#000000\" d=\"M608.4259,-218.3771C621.9124,-207.9359 639.8034,-194.0848 654.4765,-182.7249\"/>\n<polygon fill=\"#000000\" stroke=\"#000000\" points=\"656.9218,-185.2582 662.6864,-176.3689 652.6365,-179.7231 656.9218,-185.2582\"/>\n</g>\n<!-- Hulagu&#45;&gt;Sorghaghtani Beki -->\n<g id=\"edge27\" class=\"edge\">\n<title>Hulagu&#45;&gt;Sorghaghtani Beki</title>\n<path fill=\"none\" stroke=\"#000000\" d=\"M579.1002,-216.2022C574.9071,-208.0428 569.8441,-198.1904 565.191,-189.1358\"/>\n<polygon fill=\"#000000\" stroke=\"#000000\" points=\"568.2279,-187.3877 560.5441,-180.0931 562.0018,-190.5872 568.2279,-187.3877\"/>\n</g>\n<!-- Abaqa Khan -->\n<g id=\"node23\" class=\"node\">\n<title>Abaqa Khan</title>\n<ellipse fill=\"#b2dfee\" stroke=\"#b2dfee\" cx=\"599.2463\" cy=\"-306\" rx=\"57.6901\" ry=\"18\"/>\n<text text-anchor=\"middle\" x=\"599.2463\" y=\"-302.3\" font-family=\"Times,serif\" font-size=\"14.00\" fill=\"#000000\">Abaqa Khan</text>\n</g>\n<!-- Abaqa Khan&#45;&gt;Hulagu -->\n<g id=\"edge28\" class=\"edge\">\n<title>Abaqa Khan&#45;&gt;Hulagu</title>\n<path fill=\"none\" stroke=\"#000000\" d=\"M596.4705,-287.8314C595.294,-280.131 593.8951,-270.9743 592.5877,-262.4166\"/>\n<polygon fill=\"#000000\" stroke=\"#000000\" points=\"596.0296,-261.7699 591.0594,-252.4133 589.1099,-262.8272 596.0296,-261.7699\"/>\n</g>\n<!-- Arghun -->\n<g id=\"node24\" class=\"node\">\n<title>Arghun</title>\n<ellipse fill=\"#b2dfee\" stroke=\"#b2dfee\" cx=\"599.2463\" cy=\"-378\" rx=\"40.0939\" ry=\"18\"/>\n<text text-anchor=\"middle\" x=\"599.2463\" y=\"-374.3\" font-family=\"Times,serif\" font-size=\"14.00\" fill=\"#000000\">Arghun</text>\n</g>\n<!-- Arghun&#45;&gt;Abaqa Khan -->\n<g id=\"edge29\" class=\"edge\">\n<title>Arghun&#45;&gt;Abaqa Khan</title>\n<path fill=\"none\" stroke=\"#000000\" d=\"M599.2463,-359.8314C599.2463,-352.131 599.2463,-342.9743 599.2463,-334.4166\"/>\n<polygon fill=\"#000000\" stroke=\"#000000\" points=\"602.7464,-334.4132 599.2463,-324.4133 595.7464,-334.4133 602.7464,-334.4132\"/>\n</g>\n<!-- Ariq Böke -->\n<g id=\"node25\" class=\"node\">\n<title>Ariq Böke</title>\n<ellipse fill=\"#b2dfee\" stroke=\"#b2dfee\" cx=\"694.2463\" cy=\"-234\" rx=\"50.0912\" ry=\"18\"/>\n<text text-anchor=\"middle\" x=\"694.2463\" y=\"-230.3\" font-family=\"Times,serif\" font-size=\"14.00\" fill=\"#000000\">Ariq Böke</text>\n</g>\n<!-- Ariq Böke&#45;&gt;Tolui -->\n<g id=\"edge30\" class=\"edge\">\n<title>Ariq Böke&#45;&gt;Tolui</title>\n<path fill=\"none\" stroke=\"#000000\" d=\"M690.9658,-215.8314C689.5541,-208.0125 687.8712,-198.6923 686.3058,-190.0221\"/>\n<polygon fill=\"#000000\" stroke=\"#000000\" points=\"689.7018,-189.1324 684.4806,-179.9134 682.8132,-190.3762 689.7018,-189.1324\"/>\n</g>\n<!-- Ariq Böke&#45;&gt;Sorghaghtani Beki -->\n<g id=\"edge31\" class=\"edge\">\n<title>Ariq Böke&#45;&gt;Sorghaghtani Beki</title>\n<path fill=\"none\" stroke=\"#000000\" d=\"M664.963,-219.256C644.2797,-208.842 616.2531,-194.7307 593.1995,-183.1233\"/>\n<polygon fill=\"#000000\" stroke=\"#000000\" points=\"594.4918,-179.8554 583.9861,-178.4844 591.3438,-186.1077 594.4918,-179.8554\"/>\n</g>\n<!-- Hasar -->\n<g id=\"node26\" class=\"node\">\n<title>Hasar</title>\n<ellipse fill=\"#b2dfee\" stroke=\"#b2dfee\" cx=\"336.2463\" cy=\"-90\" rx=\"31.6951\" ry=\"18\"/>\n<text text-anchor=\"middle\" x=\"336.2463\" y=\"-86.3\" font-family=\"Times,serif\" font-size=\"14.00\" fill=\"#000000\">Hasar</text>\n</g>\n<!-- Hasar&#45;&gt;Yesugei -->\n<g id=\"edge32\" class=\"edge\">\n<title>Hasar&#45;&gt;Yesugei</title>\n<path fill=\"none\" stroke=\"#000000\" d=\"M325.3449,-72.937C319.8121,-64.277 312.9735,-53.5731 306.8067,-43.9207\"/>\n<polygon fill=\"#000000\" stroke=\"#000000\" points=\"309.7223,-41.9833 301.3889,-35.4407 303.8234,-45.752 309.7223,-41.9833\"/>\n</g>\n<!-- Hasar&#45;&gt;Hoelun -->\n<g id=\"edge33\" class=\"edge\">\n<title>Hasar&#45;&gt;Hoelun</title>\n<path fill=\"none\" stroke=\"#000000\" d=\"M312.3025,-78.1107C288.9894,-66.5345 253.2792,-48.8026 226.6776,-35.5935\"/>\n<polygon fill=\"#000000\" stroke=\"#000000\" points=\"228.1966,-32.4401 217.6834,-31.1274 225.0834,-38.7097 228.1966,-32.4401\"/>\n</g>\n<!-- Hachiun -->\n<g id=\"node27\" class=\"node\">\n<title>Hachiun</title>\n<ellipse fill=\"#b2dfee\" stroke=\"#b2dfee\" cx=\"42.2463\" cy=\"-90\" rx=\"42.4939\" ry=\"18\"/>\n<text text-anchor=\"middle\" x=\"42.2463\" y=\"-86.3\" font-family=\"Times,serif\" font-size=\"14.00\" fill=\"#000000\">Hachiun</text>\n</g>\n<!-- Hachiun&#45;&gt;Yesugei -->\n<g id=\"edge34\" class=\"edge\">\n<title>Hachiun&#45;&gt;Yesugei</title>\n<path fill=\"none\" stroke=\"#000000\" d=\"M74.1946,-78.1968C80.4751,-76.0262 87.0405,-73.8608 93.2463,-72 156.8494,-52.9283 174.5858,-54.8793 238.2463,-36 241.7983,-34.9466 245.4674,-33.7993 249.1367,-32.6107\"/>\n<polygon fill=\"#000000\" stroke=\"#000000\" points=\"250.387,-35.8834 258.7696,-29.4041 248.176,-29.2417 250.387,-35.8834\"/>\n</g>\n<!-- Hachiun&#45;&gt;Hoelun -->\n<g id=\"edge35\" class=\"edge\">\n<title>Hachiun&#45;&gt;Hoelun</title>\n<path fill=\"none\" stroke=\"#000000\" d=\"M70.272,-76.4574C94.2975,-64.8477 129.0596,-48.0499 155.1612,-35.4371\"/>\n<polygon fill=\"#000000\" stroke=\"#000000\" points=\"156.8687,-38.4992 164.3498,-30.997 153.823,-32.1965 156.8687,-38.4992\"/>\n</g>\n<!-- Temüge -->\n<g id=\"node28\" class=\"node\">\n<title>Temüge</title>\n<ellipse fill=\"#b2dfee\" stroke=\"#b2dfee\" cx=\"245.2463\" cy=\"-90\" rx=\"40.8928\" ry=\"18\"/>\n<text text-anchor=\"middle\" x=\"245.2463\" y=\"-86.3\" font-family=\"Times,serif\" font-size=\"14.00\" fill=\"#000000\">Temüge</text>\n</g>\n<!-- Temüge&#45;&gt;Yesugei -->\n<g id=\"edge36\" class=\"edge\">\n<title>Temüge&#45;&gt;Yesugei</title>\n<path fill=\"none\" stroke=\"#000000\" d=\"M256.1395,-72.5708C261.4617,-64.0553 267.977,-53.6308 273.8819,-44.183\"/>\n<polygon fill=\"#000000\" stroke=\"#000000\" points=\"276.9653,-45.8532 279.2974,-35.5182 271.0293,-42.1432 276.9653,-45.8532\"/>\n</g>\n<!-- Temüge&#45;&gt;Hoelun -->\n<g id=\"edge37\" class=\"edge\">\n<title>Temüge&#45;&gt;Hoelun</title>\n<path fill=\"none\" stroke=\"#000000\" d=\"M232.1744,-72.5708C225.6078,-63.8153 217.5276,-53.0418 210.2863,-43.3867\"/>\n<polygon fill=\"#000000\" stroke=\"#000000\" points=\"212.9978,-41.1687 204.1978,-35.2687 207.3978,-45.3687 212.9978,-41.1687\"/>\n</g>\n<!-- Belgutei -->\n<g id=\"node29\" class=\"node\">\n<title>Belgutei</title>\n<ellipse fill=\"#b2dfee\" stroke=\"#b2dfee\" cx=\"596.2463\" cy=\"-90\" rx=\"42.4939\" ry=\"18\"/>\n<text text-anchor=\"middle\" x=\"596.2463\" y=\"-86.3\" font-family=\"Times,serif\" font-size=\"14.00\" fill=\"#000000\">Belgutei</text>\n</g>\n<!-- Belgutei&#45;&gt;Yesugei -->\n<g id=\"edge38\" class=\"edge\">\n<title>Belgutei&#45;&gt;Yesugei</title>\n<path fill=\"none\" stroke=\"#000000\" d=\"M564.348,-78.0241C558.0632,-75.8686 551.4833,-73.753 545.2463,-72 473.9772,-51.9694 389.6612,-35.4875 338.0773,-26.1986\"/>\n<polygon fill=\"#000000\" stroke=\"#000000\" points=\"338.6699,-22.7492 328.2105,-24.4379 337.4401,-29.6403 338.6699,-22.7492\"/>\n</g>\n<!-- Behter -->\n<g id=\"node30\" class=\"node\">\n<title>Behter</title>\n<ellipse fill=\"#b2dfee\" stroke=\"#b2dfee\" cx=\"501.2463\" cy=\"-90\" rx=\"35.194\" ry=\"18\"/>\n<text text-anchor=\"middle\" x=\"501.2463\" y=\"-86.3\" font-family=\"Times,serif\" font-size=\"14.00\" fill=\"#000000\">Behter</text>\n</g>\n<!-- Behter&#45;&gt;Yesugei -->\n<g id=\"edge39\" class=\"edge\">\n<title>Behter&#45;&gt;Yesugei</title>\n<path fill=\"none\" stroke=\"#000000\" d=\"M473.9096,-78.4434C468.4208,-76.2287 462.6723,-73.9839 457.2463,-72 415.571,-56.7623 367.2704,-41.3867 333.3676,-30.9609\"/>\n<polygon fill=\"#000000\" stroke=\"#000000\" points=\"334.3553,-27.603 323.7688,-28.023 332.3066,-34.2965 334.3553,-27.603\"/>\n</g>\n</g>\n</svg>\n"
          },
          "metadata": {}
        }
      ]
    }
  ]
}